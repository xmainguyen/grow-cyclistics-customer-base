{
 "cells": [
  {
   "cell_type": "markdown",
   "id": "e0af1eec",
   "metadata": {},
   "source": [
    "# Exploratory Data Analysis"
   ]
  },
  {
   "cell_type": "code",
   "execution_count": 3,
   "id": "2eb7db66",
   "metadata": {},
   "outputs": [
    {
     "data": {
      "text/html": [
       "\n",
       "<!-- TABLEAU DASHBOARD -->\n",
       "\n",
       "Link to Tableau Dashboard: https://public.tableau.com/app/profile/m.a.i.n.nguyen/viz/CyclisticBikeshareAnalyticDashboard/Summary\n",
       "\n",
       "<div class='tableauPlaceholder' id='viz1761337490885' style='position: relative'>\n",
       "    <noscript>\n",
       "        <a href='#'>\n",
       "            <img alt='Summary '\n",
       "                src='https:&#47;&#47;public.tableau.com&#47;static&#47;images&#47;Cy&#47;CyclisticBikeshareAnalyticDashboard&#47;Summary&#47;1_rss.png'\n",
       "                style='border: none' />\n",
       "        </a>\n",
       "    </noscript>\n",
       "    <object class='tableauViz' style='display:none;'>\n",
       "        <param name='host_url' value='https%3A%2F%2Fpublic.tableau.com%2F' />\n",
       "        <param name='embed_code_version' value='3' />\n",
       "        <param name='site_root' value='' />\n",
       "        <param name='name' value='CyclisticBikeshareAnalyticDashboard&#47;Summary' />\n",
       "        <param name='tabs' value='no' />\n",
       "        <param name='toolbar' value='yes' />\n",
       "        <param name='static_image'\n",
       "            value='https:&#47;&#47;public.tableau.com&#47;static&#47;images&#47;Cy&#47;CyclisticBikeshareAnalyticDashboard&#47;Summary&#47;1.png' />\n",
       "        <param name='animate_transition' value='yes' />\n",
       "        <param name='display_static_image' value='yes' />\n",
       "        <param name='display_spinner' value='yes' />\n",
       "        <param name='display_overlay' value='yes' />\n",
       "        <param name='display_count' value='yes' />\n",
       "        <param name='language' value='en-US' />\n",
       "    </object>\n",
       "</div>\n",
       "<script type='text/javascript'>\n",
       "    var divElement = document.getElementById('viz1761337490885');\n",
       "    var vizElement = divElement.getElementsByTagName('object')[0];\n",
       "    if (divElement.offsetWidth > 800) {\n",
       "        vizElement.style.width = '1600px';\n",
       "        vizElement.style.height = '927px';\n",
       "    } else if (divElement.offsetWidth > 500) {\n",
       "        vizElement.style.width = '1600px';\n",
       "        vizElement.style.height = '927px';\n",
       "    } else {\n",
       "        vizElement.style.width = '1600px';\n",
       "        vizElement.style.height = '927px';\n",
       "    }\n",
       "    var scriptElement = document.createElement('script');\n",
       "    scriptElement.src = 'https://public.tableau.com/javascripts/api/viz_v1.js';\n",
       "    vizElement.parentNode.insertBefore(scriptElement, vizElement);\n",
       "</script>\n",
       "\n"
      ],
      "text/plain": [
       "<IPython.core.display.HTML object>"
      ]
     },
     "metadata": {},
     "output_type": "display_data"
    }
   ],
   "source": [
    "%%HTML\n",
    "\n",
    "<!-- TABLEAU DASHBOARD -->\n",
    "\n",
    "Link to Tableau Dashboard: https://public.tableau.com/app/profile/m.a.i.n.nguyen/viz/CyclisticBikeshareAnalyticDashboard/Summary\n",
    "\n",
    "<div class='tableauPlaceholder' id='viz1761337490885' style='position: relative'>\n",
    "    <noscript>\n",
    "        <a href='#'>\n",
    "            <img alt='Summary '\n",
    "                src='https:&#47;&#47;public.tableau.com&#47;static&#47;images&#47;Cy&#47;CyclisticBikeshareAnalyticDashboard&#47;Summary&#47;1_rss.png'\n",
    "                style='border: none' />\n",
    "        </a>\n",
    "    </noscript>\n",
    "    <object class='tableauViz' style='display:none;'>\n",
    "        <param name='host_url' value='https%3A%2F%2Fpublic.tableau.com%2F' />\n",
    "        <param name='embed_code_version' value='3' />\n",
    "        <param name='site_root' value='' />\n",
    "        <param name='name' value='CyclisticBikeshareAnalyticDashboard&#47;Summary' />\n",
    "        <param name='tabs' value='no' />\n",
    "        <param name='toolbar' value='yes' />\n",
    "        <param name='static_image'\n",
    "            value='https:&#47;&#47;public.tableau.com&#47;static&#47;images&#47;Cy&#47;CyclisticBikeshareAnalyticDashboard&#47;Summary&#47;1.png' />\n",
    "        <param name='animate_transition' value='yes' />\n",
    "        <param name='display_static_image' value='yes' />\n",
    "        <param name='display_spinner' value='yes' />\n",
    "        <param name='display_overlay' value='yes' />\n",
    "        <param name='display_count' value='yes' />\n",
    "        <param name='language' value='en-US' />\n",
    "    </object>\n",
    "</div>\n",
    "<script type='text/javascript'>\n",
    "    var divElement = document.getElementById('viz1761337490885');\n",
    "    var vizElement = divElement.getElementsByTagName('object')[0];\n",
    "    if (divElement.offsetWidth > 800) {\n",
    "        vizElement.style.width = '1600px';\n",
    "        vizElement.style.height = '927px';\n",
    "    } else if (divElement.offsetWidth > 500) {\n",
    "        vizElement.style.width = '1600px';\n",
    "        vizElement.style.height = '927px';\n",
    "    } else {\n",
    "        vizElement.style.width = '1600px';\n",
    "        vizElement.style.height = '927px';\n",
    "    }\n",
    "    var scriptElement = document.createElement('script');\n",
    "    scriptElement.src = 'https://public.tableau.com/javascripts/api/viz_v1.js';\n",
    "    vizElement.parentNode.insertBefore(scriptElement, vizElement);\n",
    "</script>\n",
    "\n"
   ]
  },
  {
   "cell_type": "code",
   "execution_count": null,
   "id": "fccd010a",
   "metadata": {},
   "outputs": [],
   "source": []
  },
  {
   "cell_type": "code",
   "execution_count": null,
   "id": "bb55b2be",
   "metadata": {},
   "outputs": [],
   "source": []
  }
 ],
 "metadata": {
  "kernelspec": {
   "display_name": "base",
   "language": "python",
   "name": "python3"
  },
  "language_info": {
   "codemirror_mode": {
    "name": "ipython",
    "version": 3
   },
   "file_extension": ".py",
   "mimetype": "text/x-python",
   "name": "python",
   "nbconvert_exporter": "python",
   "pygments_lexer": "ipython3",
   "version": "3.12.2"
  }
 },
 "nbformat": 4,
 "nbformat_minor": 5
}
