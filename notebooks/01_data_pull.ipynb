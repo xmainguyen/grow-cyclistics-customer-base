{
 "cells": [
  {
   "cell_type": "markdown",
   "id": "fa5db6ca",
   "metadata": {},
   "source": [
    "# Pulling Data from Google BigQuery"
   ]
  },
  {
   "cell_type": "code",
   "execution_count": 1,
   "id": "89a0bb4f",
   "metadata": {},
   "outputs": [],
   "source": [
    "import pandas as pd \n",
    "import numpy as np \n",
    "from google.cloud import bigquery"
   ]
  },
  {
   "cell_type": "code",
   "execution_count": 2,
   "id": "f5437eff",
   "metadata": {},
   "outputs": [
    {
     "name": "stderr",
     "output_type": "stream",
     "text": [
      "/opt/anaconda3/lib/python3.12/site-packages/google/cloud/bigquery/table.py:1994: UserWarning: BigQuery Storage module not found, fetch data with the REST endpoint instead.\n",
      "  warnings.warn(\n"
     ]
    }
   ],
   "source": [
    "# Construct a BigQuery client object to pull data from BigQuery\n",
    "client = bigquery.Client(project='cyclistic-pipeline-project')\n",
    "\n",
    "# The query pulls Citibike trip data from 2018, joining with weather data and zip code information\n",
    "query = \"\"\"\n",
    "    SELECT\n",
    "        TRI.usertype,\n",
    "        ZIPSTART.zip_code AS zip_code_start,\n",
    "        ZIPSTARTNAME.borough borough_start,\n",
    "        ZIPSTARTNAME.neighborhood AS neighborhood_start,\n",
    "        ZIPEND.zip_code AS zip_code_end,\n",
    "        ZIPENDNAME.borough borough_end,\n",
    "        ZIPENDNAME.neighborhood AS neighborhood_end,\n",
    "        -- Since we're using trips in 2018, we will add 5 years to make it look recent\n",
    "        TIMESTAMP_ADD(TRI.starttime, INTERVAL 5 YEAR) AS start_time,\n",
    "        TIMESTAMP_ADD(TRI.stoptime, INTERVAL 5 YEAR) AS stop_time,\n",
    "        WEA.temp AS day_mean_temperature, -- Mean temp\n",
    "        WEA.wdsp AS day_mean_wind_speed, -- Mean wind speed\n",
    "        WEA.prcp day_total_precipitation, -- Total precipitation\n",
    "        -- Group trips into 10 minute intervals to reduces the number of rows\n",
    "        ROUND(CAST(TRI.tripduration / 60 AS INT64), -1) AS trip_minutes,\n",
    "        AVG(TRI.tripduration) / 60 AS avg_trip_minutes\n",
    "    \n",
    "    FROM `bigquery-public-data.new_york_citibike.citibike_trips` AS TRI\n",
    "    \n",
    "    INNER JOIN `bigquery-public-data.geo_us_boundaries.zip_codes` ZIPSTART\n",
    "    ON ST_WITHIN(\n",
    "    ST_GEOGPOINT(TRI.start_station_longitude, TRI.start_station_latitude),\n",
    "    ZIPSTART.zip_code_geom)\n",
    "    \n",
    "    INNER JOIN `bigquery-public-data.geo_us_boundaries.zip_codes` ZIPEND\n",
    "    ON ST_WITHIN(\n",
    "    ST_GEOGPOINT(TRI.end_station_longitude, TRI.end_station_latitude),\n",
    "    ZIPEND.zip_code_geom)\n",
    "    \n",
    "    INNER JOIN `bigquery-public-data.noaa_gsod.gsod20*` AS WEA\n",
    "    ON PARSE_DATE(\"%Y%m%d\", CONCAT(WEA.year, WEA.mo, WEA.da)) = DATE(TRI.starttime)\n",
    "    \n",
    "    INNER JOIN `cyclistic-pipeline-project.cyclistics.zipcodes` AS ZIPSTARTNAME\n",
    "    ON ZIPSTART.zip_code = CAST(ZIPSTARTNAME.zip AS STRING)\n",
    "    \n",
    "    INNER JOIN `cyclistic-pipeline-project.cyclistics.zipcodes` AS ZIPENDNAME\n",
    "    ON ZIPEND.zip_code = CAST(ZIPENDNAME.zip AS STRING)\n",
    "    \n",
    "    WHERE\n",
    "        -- This takes the weather data from one weather station\n",
    "        WEA.wban = '94728' -- NEW YORK CENTRAL PARK\n",
    "        -- Use data in 2018\n",
    "        AND EXTRACT(YEAR FROM DATE(TRI.starttime)) = 2018 \n",
    "    \n",
    "    GROUP BY 1, 2, 3, 4, 5, 6, 7, 8, 9, 10, 11, 12, 13\n",
    "\n",
    "\"\"\"\n",
    "\n",
    "query_job = client.query(query) \n",
    "df_trips = query_job.to_dataframe()\n",
    "\n",
    "df_trips.to_csv('../data/trips.csv', index=False)"
   ]
  },
  {
   "cell_type": "code",
   "execution_count": 4,
   "id": "84680a9a",
   "metadata": {},
   "outputs": [
    {
     "name": "stderr",
     "output_type": "stream",
     "text": [
      "/opt/anaconda3/lib/python3.12/site-packages/google/cloud/bigquery/table.py:1994: UserWarning: BigQuery Storage module not found, fetch data with the REST endpoint instead.\n",
      "  warnings.warn(\n"
     ]
    }
   ],
   "source": [
    "# Pull station data\n",
    "query = \"\"\"\n",
    "    SELECT *\n",
    "    FROM `bigquery-public-data.new_york_citibike.citibike_stations`\n",
    "\"\"\"\n",
    "\n",
    "query_job = client.query(query) \n",
    "df_station = query_job.to_dataframe()\n",
    "\n",
    "df_station.to_csv('../data/stations.csv', index=False)"
   ]
  }
 ],
 "metadata": {
  "kernelspec": {
   "display_name": "base",
   "language": "python",
   "name": "python3"
  },
  "language_info": {
   "codemirror_mode": {
    "name": "ipython",
    "version": 3
   },
   "file_extension": ".py",
   "mimetype": "text/x-python",
   "name": "python",
   "nbconvert_exporter": "python",
   "pygments_lexer": "ipython3",
   "version": "3.12.2"
  }
 },
 "nbformat": 4,
 "nbformat_minor": 5
}
