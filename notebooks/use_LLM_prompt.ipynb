{
 "cells": [
  {
   "cell_type": "code",
   "execution_count": null,
   "id": "9f1b8c27",
   "metadata": {},
   "outputs": [
    {
     "name": "stdout",
     "output_type": "stream",
     "text": [
      "\u001b[31mERROR: pip's dependency resolver does not currently take into account all the packages that are installed. This behaviour is the source of the following dependency conflicts.\n",
      "google-genai 1.39.1 requires pydantic<3.0.0,>=2.0.0, but you have pydantic 1.10.13 which is incompatible.\n",
      "pydantic-settings 2.11.0 requires pydantic>=2.7.0, but you have pydantic 1.10.13 which is incompatible.\n",
      "genai-prices 0.0.29 requires pydantic>=2.10, but you have pydantic 1.10.13 which is incompatible.\n",
      "mistralai 1.9.10 requires pydantic>=2.10.3, but you have pydantic 1.10.13 which is incompatible.\n",
      "pydantic-evals 1.0.12 requires pydantic>=2.10, but you have pydantic 1.10.13 which is incompatible.\n",
      "pydantic-ai-slim 1.0.12 requires pydantic>=2.10, but you have pydantic 1.10.13 which is incompatible.\n",
      "pydantic-graph 1.0.12 requires pydantic>=2.10, but you have pydantic 1.10.13 which is incompatible.\n",
      "mcp 1.15.0 requires pydantic<3.0.0,>=2.11.0, but you have pydantic 1.10.13 which is incompatible.\n",
      "ag-ui-protocol 0.1.9 requires pydantic<3.0.0,>=2.11.2, but you have pydantic 1.10.13 which is incompatible.\u001b[0m\u001b[31m\n",
      "\u001b[0mNote: you may need to restart the kernel to use updated packages.\n"
     ]
    },
    {
     "ename": "ModuleNotFoundError",
     "evalue": "No module named 'pydantic.json_schema'",
     "output_type": "error",
     "traceback": [
      "\u001b[0;31m---------------------------------------------------------------------------\u001b[0m",
      "\u001b[0;31mModuleNotFoundError\u001b[0m                       Traceback (most recent call last)",
      "Cell \u001b[0;32mIn[4], line 4\u001b[0m\n\u001b[1;32m      1\u001b[0m get_ipython()\u001b[38;5;241m.\u001b[39mrun_line_magic(\u001b[38;5;124m'\u001b[39m\u001b[38;5;124mpip\u001b[39m\u001b[38;5;124m'\u001b[39m, \u001b[38;5;124m'\u001b[39m\u001b[38;5;124minstall \u001b[39m\u001b[38;5;124m\"\u001b[39m\u001b[38;5;124mpydantic==1.10.13\u001b[39m\u001b[38;5;124m\"\u001b[39m\u001b[38;5;124m --quiet\u001b[39m\u001b[38;5;124m'\u001b[39m)\n\u001b[1;32m      3\u001b[0m \u001b[38;5;28;01mimport\u001b[39;00m \u001b[38;5;21;01mpydantic\u001b[39;00m \n\u001b[0;32m----> 4\u001b[0m \u001b[38;5;28;01mfrom\u001b[39;00m \u001b[38;5;21;01mpydantic_ai\u001b[39;00m \u001b[38;5;28;01mimport\u001b[39;00m Agent\n",
      "File \u001b[0;32m/opt/anaconda3/lib/python3.12/site-packages/pydantic_ai/__init__.py:3\u001b[0m\n\u001b[1;32m      1\u001b[0m \u001b[38;5;28;01mfrom\u001b[39;00m \u001b[38;5;21;01mimportlib\u001b[39;00m\u001b[38;5;21;01m.\u001b[39;00m\u001b[38;5;21;01mmetadata\u001b[39;00m \u001b[38;5;28;01mimport\u001b[39;00m version \u001b[38;5;28;01mas\u001b[39;00m _metadata_version\n\u001b[0;32m----> 3\u001b[0m \u001b[38;5;28;01mfrom\u001b[39;00m \u001b[38;5;21;01m.\u001b[39;00m\u001b[38;5;21;01magent\u001b[39;00m \u001b[38;5;28;01mimport\u001b[39;00m (\n\u001b[1;32m      4\u001b[0m     Agent,\n\u001b[1;32m      5\u001b[0m     CallToolsNode,\n\u001b[1;32m      6\u001b[0m     EndStrategy,\n\u001b[1;32m      7\u001b[0m     InstrumentationSettings,\n\u001b[1;32m      8\u001b[0m     ModelRequestNode,\n\u001b[1;32m      9\u001b[0m     UserPromptNode,\n\u001b[1;32m     10\u001b[0m     capture_run_messages,\n\u001b[1;32m     11\u001b[0m )\n\u001b[1;32m     12\u001b[0m \u001b[38;5;28;01mfrom\u001b[39;00m \u001b[38;5;21;01m.\u001b[39;00m\u001b[38;5;21;01mbuiltin_tools\u001b[39;00m \u001b[38;5;28;01mimport\u001b[39;00m CodeExecutionTool, UrlContextTool, WebSearchTool, WebSearchUserLocation\n\u001b[1;32m     13\u001b[0m \u001b[38;5;28;01mfrom\u001b[39;00m \u001b[38;5;21;01m.\u001b[39;00m\u001b[38;5;21;01mexceptions\u001b[39;00m \u001b[38;5;28;01mimport\u001b[39;00m (\n\u001b[1;32m     14\u001b[0m     AgentRunError,\n\u001b[1;32m     15\u001b[0m     ApprovalRequired,\n\u001b[0;32m   (...)\u001b[0m\n\u001b[1;32m     22\u001b[0m     UserError,\n\u001b[1;32m     23\u001b[0m )\n",
      "File \u001b[0;32m/opt/anaconda3/lib/python3.12/site-packages/pydantic_ai/agent/__init__.py:14\u001b[0m\n\u001b[1;32m     11\u001b[0m \u001b[38;5;28;01mfrom\u001b[39;00m \u001b[38;5;21;01mtyping\u001b[39;00m \u001b[38;5;28;01mimport\u001b[39;00m TYPE_CHECKING, Any, ClassVar, cast, overload\n\u001b[1;32m     13\u001b[0m \u001b[38;5;28;01mfrom\u001b[39;00m \u001b[38;5;21;01mopentelemetry\u001b[39;00m\u001b[38;5;21;01m.\u001b[39;00m\u001b[38;5;21;01mtrace\u001b[39;00m \u001b[38;5;28;01mimport\u001b[39;00m NoOpTracer, use_span\n\u001b[0;32m---> 14\u001b[0m \u001b[38;5;28;01mfrom\u001b[39;00m \u001b[38;5;21;01mpydantic\u001b[39;00m\u001b[38;5;21;01m.\u001b[39;00m\u001b[38;5;21;01mjson_schema\u001b[39;00m \u001b[38;5;28;01mimport\u001b[39;00m GenerateJsonSchema\n\u001b[1;32m     15\u001b[0m \u001b[38;5;28;01mfrom\u001b[39;00m \u001b[38;5;21;01mtyping_extensions\u001b[39;00m \u001b[38;5;28;01mimport\u001b[39;00m Self, TypeVar, deprecated\n\u001b[1;32m     17\u001b[0m \u001b[38;5;28;01mfrom\u001b[39;00m \u001b[38;5;21;01mpydantic_graph\u001b[39;00m \u001b[38;5;28;01mimport\u001b[39;00m Graph\n",
      "\u001b[0;31mModuleNotFoundError\u001b[0m: No module named 'pydantic.json_schema'"
     ]
    }
   ],
   "source": [
    "import pydantic \n",
    "from pydantic_ai import Agent"
   ]
  },
  {
   "cell_type": "code",
   "execution_count": null,
   "id": "eb6e0655",
   "metadata": {},
   "outputs": [],
   "source": [
    "class SentimentEnum(str, pydantic.Enum):\n",
    "    positive = \"positive\"\n",
    "    negative = \"negative\"\n",
    "    neutral = \"neutral\"\n",
    "\n",
    "class ConfidenteResponse(pydantic.BaseModel):\n",
    "    sentiment: SentimentEnum\n",
    "    confidence: float   \n",
    "\n",
    "class SentimentResponse(pydantic.BaseModel):\n",
    "    sentiments: List[Sentiments]\n",
    "\n",
    "agent = Agent(\n",
    "    model=\"gpt-5\", \n",
    "    system_prompt=complete_prompt,\n",
    "    output_type=SentimentResponse)\n",
    "\n",
    "response = agent.run_sync(\"\\n\\n\\n\".join(reviews)).output\n",
    "\n",
    "sentiments = response.sentiments\n",
    "\n",
    "sentiments_with_reviews = [\n",
    "    {\"review\": review, **sentiment.model_dump(mode='json')}\n",
    "    for sentiment, review in zip(sentiments, reviews)\n",
    "]\n",
    "\n",
    "with open(\"sentiment_response.json\", \"w\") as f:\n",
    "    json.dump(sentiments_with_reviews, f, indent=2)\n",
    "\n",
    "# Use uv to create virtual environment\n",
    "# resolve dependency issues\n",
    "# uv init "
   ]
  },
  {
   "cell_type": "code",
   "execution_count": null,
   "id": "bc72b1a3",
   "metadata": {},
   "outputs": [],
   "source": []
  },
  {
   "cell_type": "code",
   "execution_count": null,
   "id": "c832113f",
   "metadata": {},
   "outputs": [],
   "source": []
  },
  {
   "cell_type": "code",
   "execution_count": null,
   "id": "2420c31c",
   "metadata": {},
   "outputs": [],
   "source": []
  }
 ],
 "metadata": {
  "kernelspec": {
   "display_name": "base",
   "language": "python",
   "name": "python3"
  },
  "language_info": {
   "codemirror_mode": {
    "name": "ipython",
    "version": 3
   },
   "file_extension": ".py",
   "mimetype": "text/x-python",
   "name": "python",
   "nbconvert_exporter": "python",
   "pygments_lexer": "ipython3",
   "version": "3.12.4"
  }
 },
 "nbformat": 4,
 "nbformat_minor": 5
}
