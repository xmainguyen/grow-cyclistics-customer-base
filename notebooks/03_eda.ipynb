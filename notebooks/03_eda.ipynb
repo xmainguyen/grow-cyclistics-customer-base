{
 "cells": [
  {
   "cell_type": "markdown",
   "id": "e0af1eec",
   "metadata": {},
   "source": [
    "# Exploratory Data Analysis"
   ]
  },
  {
   "cell_type": "code",
   "execution_count": 1,
   "id": "dc7669f7",
   "metadata": {},
   "outputs": [],
   "source": [
    "# import libraries\n",
    "import pandas as pd\n",
    "import numpy as np\n",
    "import matplotlib.pyplot as plt\n",
    "import seaborn as sns"
   ]
  },
  {
   "cell_type": "code",
   "execution_count": null,
   "id": "637e0a0b",
   "metadata": {},
   "outputs": [],
   "source": [
    "df = pd.read_csv('../data/trips_cleaned.csv')"
   ]
  },
  {
   "cell_type": "code",
   "execution_count": null,
   "id": "ecbc8529",
   "metadata": {},
   "outputs": [],
   "source": [
    "# visuaize avg_trip_minutes by precipitation\n",
    "plt.figure(figsize=(10,6))\n",
    "sns.scatterplot(data=df, x='precipitation', y='avg_trip_minutes')\n",
    "plt.title('Average Trip Minutes vs Precipitation')\n",
    "plt.xlabel('Precipitation (inches)')\n",
    "plt.ylabel('Average Trip Minutes')\n",
    "plt.show()"
   ]
  },
  {
   "cell_type": "code",
   "execution_count": null,
   "id": "1f54abb9",
   "metadata": {},
   "outputs": [],
   "source": [
    "# visualize avg_trip_minutes by temperature\n",
    "plt.figure(figsize=(10,6))\n",
    "sns.scatterplot(data=df, x='temperature', y='avg_trip_minutes')\n",
    "plt.title('Average Trip Minutes vs Temperature')\n",
    "plt.xlabel('Temperature (°F)')\n",
    "plt.ylabel('Average Trip Minutes')\n",
    "plt.show()"
   ]
  },
  {
   "cell_type": "code",
   "execution_count": null,
   "id": "2eb7db66",
   "metadata": {},
   "outputs": [],
   "source": []
  },
  {
   "cell_type": "code",
   "execution_count": null,
   "id": "fccd010a",
   "metadata": {},
   "outputs": [],
   "source": []
  },
  {
   "cell_type": "code",
   "execution_count": null,
   "id": "bb55b2be",
   "metadata": {},
   "outputs": [],
   "source": []
  }
 ],
 "metadata": {
  "kernelspec": {
   "display_name": "base",
   "language": "python",
   "name": "python3"
  },
  "language_info": {
   "codemirror_mode": {
    "name": "ipython",
    "version": 3
   },
   "file_extension": ".py",
   "mimetype": "text/x-python",
   "name": "python",
   "nbconvert_exporter": "python",
   "pygments_lexer": "ipython3",
   "version": "3.12.2"
  }
 },
 "nbformat": 4,
 "nbformat_minor": 5
}
